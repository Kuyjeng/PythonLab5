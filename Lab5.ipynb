{
  "nbformat": 4,
  "nbformat_minor": 0,
  "metadata": {
    "colab": {
      "provenance": [],
      "include_colab_link": true
    },
    "kernelspec": {
      "name": "python3",
      "display_name": "Python 3"
    },
    "language_info": {
      "name": "python"
    }
  },
  "cells": [
    {
      "cell_type": "markdown",
      "metadata": {
        "id": "view-in-github",
        "colab_type": "text"
      },
      "source": [
        "<a href=\"https://colab.research.google.com/github/Kuyjeng/PythonLab5/blob/main/Lab5.ipynb\" target=\"_parent\"><img src=\"https://colab.research.google.com/assets/colab-badge.svg\" alt=\"Open In Colab\"/></a>"
      ]
    },
    {
      "cell_type": "markdown",
      "source": [
        "รหัสนักศึกษา : 67015181 ชื่อ :พีรพัฒน์ เครือแก้ว ณ ลำพูน"
      ],
      "metadata": {
        "id": "ayuUhdui4PbN"
      }
    },
    {
      "cell_type": "markdown",
      "source": [
        "Exercise 5.1 ให้เขียน function ชื่อ day_of_year(day, month ,year) โดยมีการคืนค่า คือ day_of_years เป็นวันที่ลำดับที่เท่าใดของปีคริสตศักราช year\n",
        "ปีที่เป็น Leap Year เดือนกุมภาพันธ์จะมี 29 วัน\n",
        "ให้สร้างฟังก์ชัน is_leap เพื่อตรวจสอบ leap year แยกออกมา และให้ฟังก์ชัน day_of_year เรียกใช้ is_leap อีกที\n"
      ],
      "metadata": {
        "id": "ZXM4rXQB6Q9o"
      }
    },
    {
      "cell_type": "code",
      "source": [
        "days_in_month = [31, 28, 31, 30, 31, 30, 31, 31, 30, 31, 30, 31]\n",
        "\n",
        "def leap_year(year):\n",
        "    if (year % 4 == 0 and year % 100 != 0) or (year % 400 == 0):\n",
        "        return True\n",
        "    return False\n",
        "\n",
        "def day_of_year(day, month, year):\n",
        "    total_days = sum(days_in_month[:month-1]) + day\n",
        "    if leap_year(year) and month > 2:\n",
        "        total_days += 1\n",
        "    return total_days\n",
        "\n",
        "\n",
        "# Testcases\n",
        "print(\"Normal year (2023):\")\n",
        "print(f\"1 Jan 2023: {day_of_year(1, 1, 2023)}\")  # ควรได้ 1\n",
        "print(f\"1 Feb 2023: {day_of_year(1, 2, 2023)}\")  # ควรได้ 32\n",
        "print(f\"1 Mar 2023: {day_of_year(1, 3, 2023)}\")  # ควรได้ 60\n",
        "print(f\"31 Dec 2023: {day_of_year(31, 12, 2023)}\")  # ควรได้ 365\n",
        "\n",
        "print(\"\\nLeap year (2024):\")\n",
        "print(f\"1 Jan 2024: {day_of_year(1, 1, 2024)}\")  # ควรได้ 1\n",
        "print(f\"29 Feb 2024: {day_of_year(29, 2, 2024)}\")  # ควรได้ 60\n",
        "print(f\"1 Mar 2024: {day_of_year(1, 3, 2024)}\")  # ควรได้ 61\n",
        "print(f\"31 Dec 2024: {day_of_year(31, 12, 2024)}\")  # ควรได้ 366\n",
        "\n",
        "print(\"\\nCentury year, not a leap year (1900):\")\n",
        "print(f\"1 Mar 1900: {day_of_year(1, 3, 1900)}\")  # ควรได้ 60\n",
        "\n",
        "print(\"\\nCentury year, leap year (2000):\")\n",
        "print(f\"1 Mar 2000: {day_of_year(1, 3, 2000)}\")  # ควรได้ 61\n",
        "\n",
        "print(\"\\nMid-year dates:\")\n",
        "print(f\"15 Jun 2023: {day_of_year(15, 6, 2023)}\")  # ควรได้ 166\n",
        "print(f\"15 Jun 2024: {day_of_year(15, 6, 2024)}\")  # ควรได้ 167 (Leap year)\n",
        "\n",
        "print(\"\\nLast day of each quarter:\")\n",
        "print(f\"31 Mar 2023: {day_of_year(31, 3, 2023)}\")  # ควรได้ 90\n",
        "print(f\"30 Jun 2023: {day_of_year(30, 6, 2023)}\")  # ควรได้ 181\n",
        "print(f\"30 Sep 2023: {day_of_year(30, 9, 2023)}\")  # ควรได้ 273\n",
        "print(f\"31 Dec 2023: {day_of_year(31, 12, 2023)}\")  # ควรได้ 365"
      ],
      "metadata": {
        "id": "oerlrWw46aJZ",
        "colab": {
          "base_uri": "https://localhost:8080/"
        },
        "outputId": "43d50875-756a-4e08-a0b3-43cae6f52303"
      },
      "execution_count": 1,
      "outputs": [
        {
          "output_type": "stream",
          "name": "stdout",
          "text": [
            "Normal year (2023):\n",
            "1 Jan 2023: 1\n",
            "1 Feb 2023: 32\n",
            "1 Mar 2023: 60\n",
            "31 Dec 2023: 365\n",
            "\n",
            "Leap year (2024):\n",
            "1 Jan 2024: 1\n",
            "29 Feb 2024: 60\n",
            "1 Mar 2024: 61\n",
            "31 Dec 2024: 366\n",
            "\n",
            "Century year, not a leap year (1900):\n",
            "1 Mar 1900: 60\n",
            "\n",
            "Century year, leap year (2000):\n",
            "1 Mar 2000: 61\n",
            "\n",
            "Mid-year dates:\n",
            "15 Jun 2023: 166\n",
            "15 Jun 2024: 167\n",
            "\n",
            "Last day of each quarter:\n",
            "31 Mar 2023: 90\n",
            "30 Jun 2023: 181\n",
            "30 Sep 2023: 273\n",
            "31 Dec 2023: 365\n"
          ]
        }
      ]
    },
    {
      "cell_type": "markdown",
      "source": [
        "Exercise 5.2 ให้เขียนฟังก์ชัน เพิ่มเติมเป็น date_diff\n",
        "รับข้อมูลในรูปแบบ “dd-mm-yyyy” เช่น date_diff(“1-1-2018”, “1-1-2020”) จะได้ 731 วัน date_diff(“25-12-1999”, “9-3-2000”) จะได้ 76 วัน\n",
        "ให้เขียนฟังก์ชัน day_in_year โดยจะส่งค่าจำนวนวันของปี (365 หรือ 366) โดยรับข้อมูลเป็น ปี\n",
        "ส่งคืนข้อมูลเป็นจำนวนวันตั้งแต่วันที่แรก จนถึงวันที่สอง โดยรวมทั้ง 2 วันนั้นเข้าไปด้วย\n",
        "ให้สมมติว่าวันแรก จะต้องมาก่อนวันที่สองเสมอ ดังนั้นไม่ต้องตรวจสอบ\n"
      ],
      "metadata": {
        "id": "fkkuNcAcCo-z"
      }
    },
    {
      "cell_type": "code",
      "source": [
        "days_in_month = [31, 28, 31, 30, 31, 30, 31, 31, 30, 31, 30, 31]\n",
        "\n",
        "def leap_year(year):\n",
        "    return (year % 4 == 0 and year % 100 != 0) or (year % 400 == 0)\n",
        "\n",
        "def day_of_year(day, month, year):\n",
        "    total_days = sum(days_in_month[:month-1]) + day\n",
        "    if leap_year(year) and month > 2:\n",
        "        total_days += 1\n",
        "    return total_days\n",
        "\n",
        "def days_in_year(year):\n",
        "    return 366 if leap_year(year) else 365\n",
        "\n",
        "def date_diff(date1, date2):\n",
        "    day1, month1, year1 = map(int, date1.split('-'))\n",
        "    day2, month2, year2 = map(int, date2.split('-'))\n",
        "\n",
        "    if year1 == year2:\n",
        "        return day_of_year(day2, month2, year2) - day_of_year(day1, month1, year1)\n",
        "\n",
        "    days_end_year1 = days_in_year(year1) - day_of_year(day1, month1, year1)\n",
        "    days_start_year2 = day_of_year(day2, month2, year2)\n",
        "    total_days = days_end_year1 + days_start_year2\n",
        "\n",
        "    for year in range(year1 + 1, year2):\n",
        "        total_days += days_in_year(year)\n",
        "\n",
        "    return total_days\n",
        "# ทดสอบฟังก์ชัน\n",
        "print(date_diff(\"1-1-2018\", \"1-1-2020\"))  # ควรได้ 731\n",
        "print(date_diff(\"25-12-1999\", \"9-3-2000\"))  # ควรได้ 76\n",
        "print(date_diff(\"1-1-2000\", \"1-1-2001\"))  # ควรได้ 367 (ปี 2000 เป็น leap year)\n",
        "print(date_diff(\"1-1-2001\", \"1-1-2002\"))  # ควรได้ 366 (ปี 2001 ไม่ใช่ leap year)\n",
        "print(date_diff(\"1-3-2000\", \"1-3-2001\"))  # ควรได้ 367 (ข้ามปี leap year)\n",
        "print(date_diff(\"1-1-2023\", \"31-12-2023\"))  # ควรได้ 365 (ทั้งปี 2023)\n"
      ],
      "metadata": {
        "id": "dwNIkw0wDRjF",
        "colab": {
          "base_uri": "https://localhost:8080/"
        },
        "outputId": "a7f807df-d840-4fa0-c3e9-13addb065b42"
      },
      "execution_count": 6,
      "outputs": [
        {
          "output_type": "stream",
          "name": "stdout",
          "text": [
            "730\n",
            "75\n",
            "366\n",
            "365\n",
            "365\n",
            "364\n"
          ]
        }
      ]
    },
    {
      "cell_type": "markdown",
      "source": [
        "Exercise 5.3 จากโปรแกรม 5.2 ให้เขียนฟังก์ชัน date_diff  เพิ่มเติม โดยให้มีการตรวจสอบ\n",
        "วันที่ต้องเป็นวันที่ถูกต้องของเดือนนั้นๆ\n",
        "เดือนต้องอยู่ระหว่าง 1-12\n",
        "เดือนกุมภาพันธ์ของปีที่มี Leap Year เท่านั้นที่จะมี 29 วันได้\n",
        "หากข้อมูล Input ผิดพลาด ให้ Return -1\n"
      ],
      "metadata": {
        "id": "JU8jQcg4WDoF"
      }
    },
    {
      "cell_type": "code",
      "source": [
        "days_in_month = [31, 28, 31, 30, 31, 30, 31, 31, 30, 31, 30, 31]\n",
        "\n",
        "def leap_year(year):\n",
        "    return (year % 4 == 0 and year % 100 != 0) or (year % 400 == 0)\n",
        "\n",
        "def valid_date(day, month, year):\n",
        "    if month < 1 or month > 12:\n",
        "        return False\n",
        "    if month == 2 and leap_year(year):\n",
        "        return 1 <= day <= 29\n",
        "    return 1 <= day <= days_in_month[month - 1]\n",
        "\n",
        "def day_of_year(day, month, year):\n",
        "    total_days = sum(days_in_month[:month-1]) + day\n",
        "    if leap_year(year) and month > 2:\n",
        "        total_days += 1\n",
        "    return total_days\n",
        "\n",
        "def days_in_year(year):\n",
        "    return 366 if leap_year(year) else 365\n",
        "\n",
        "def parse_date(date_str):\n",
        "    try:\n",
        "        day, month, year = map(int, date_str.split('-'))\n",
        "        return day, month, year\n",
        "    except ValueError:\n",
        "        return None\n",
        "\n",
        "def date_diff(date1, date2):\n",
        "    parsed_date1 = parse_date(date1)\n",
        "    parsed_date2 = parse_date(date2)\n",
        "\n",
        "    if not parsed_date1 or not parsed_date2:\n",
        "        return -1\n",
        "\n",
        "    day1, month1, year1 = parsed_date1\n",
        "    day2, month2, year2 = parsed_date2\n",
        "\n",
        "    if not (valid_date(day1, month1, year1) and valid_date(day2, month2, year2)):\n",
        "        return -1\n",
        "\n",
        "    if year1 == year2:\n",
        "        return day_of_year(day2, month2, year2) - day_of_year(day1, month1, year1)\n",
        "\n",
        "    days_end_year1 = days_in_year(year1) - day_of_year(day1, month1, year1)\n",
        "    days_start_year2 = day_of_year(day2, month2, year2)\n",
        "    total_days = days_end_year1 + days_start_year2\n",
        "\n",
        "    for year in range(year1 + 1, year2):\n",
        "        total_days += days_in_year(year)\n",
        "\n",
        "    return total_days\n",
        "\n",
        "# ทดสอบฟังก์ชัน\n",
        "print(date_diff(\"1-1-2018\", \"1-1-2020\"))  # ควรได้ 731\n",
        "print(date_diff(\"25-12-1999\", \"9-3-2000\"))  # ควรได้ 76\n",
        "print(date_diff(\"1-1-2000\", \"1-1-2001\"))  # ควรได้ 367 (ปี 2000 เป็น leap year)\n",
        "print(date_diff(\"1-1-2001\", \"1-1-2002\"))  # ควรได้ 366 (ปี 2001 ไม่ใช่ leap year)\n",
        "print(date_diff(\"1-3-2000\", \"1-3-2001\"))  # ควรได้ 367 (ข้ามปี leap year)\n",
        "print(date_diff(\"1-1-2023\", \"31-12-2023\"))  # ควรได้ 365 (ทั้งปี 2023)\n",
        "\n",
        "# ทดสอบกรณีข้อมูลไม่ถูกต้อง\n",
        "print(date_diff(\"31-4-2023\", \"1-5-2023\"))  # ควรได้ -1 (เดือนเมษายนมี 30 วัน)\n",
        "print(date_diff(\"29-2-2023\", \"1-3-2023\"))  # ควรได้ -1 (ปี 2023 ไม่ใช่ leap year)\n",
        "print(date_diff(\"1-13-2023\", \"1-1-2024\"))  # ควรได้ -1 (เดือนไม่ถูกต้อง)\n",
        "print(date_diff(\"abc\", \"1-1-2024\"))  # ควรได้ -1 (รูปแบบวันที่ไม่ถูกต้อง)"
      ],
      "metadata": {
        "id": "OgqrXbFVWEML",
        "colab": {
          "base_uri": "https://localhost:8080/"
        },
        "outputId": "381b684a-c3d8-49fd-e395-30d51ca46911"
      },
      "execution_count": 8,
      "outputs": [
        {
          "output_type": "stream",
          "name": "stdout",
          "text": [
            "730\n",
            "75\n",
            "366\n",
            "365\n",
            "365\n",
            "364\n",
            "-1\n",
            "-1\n",
            "-1\n",
            "-1\n"
          ]
        }
      ]
    },
    {
      "cell_type": "markdown",
      "source": [
        "1.\tปลาหมอคางดำเพศเมีย 1 ตัว เมื่ออายุครบ 2 เดือน จะสามารถสืบพันธ์ได้ โดยระยะเวลาตั้งท้องจนถึง\n",
        "วางไข่ของตัวเมียจะใช้เวลา 21 วัน และฟักในปากเพศผู้อีก 7 วัน (สามารถรวมเป็น 1 เดือนได้) โดยออกไข่ครั้งละ 300 ฟอง กำหนดให้ไข่ฟักเป็นเพศผู้และเพศเมียอย่างละครึ่ง และเมื่อวางไข่แล้วจะสามารถสืบพันธ์ต่อได้ทันที กำหนดให้ปลามีอายุ 5 ปี และปลาทั้งหมดจะตาย p% ทุก 1 เดือน จงหาว่าปลาหมอคางดำหลุดจากฟาร์ม n ตัวเป็นเพศผู้และเพศเมียอย่างละครึ่ง จงเขียนโปรแกรมรับค่า n และ p ให้แสดงผลจำนวนปลาทุก 3 เดือน เป็นเวลา 10 ปี ให้เขียนเป็นฟังก์ชัน ชื่อ simulate_fish_population()\n"
      ],
      "metadata": {
        "id": "tdBCjJzeWb2c"
      }
    },
    {
      "cell_type": "code",
      "execution_count": 3,
      "metadata": {
        "id": "JmvNmVQh4C9X",
        "colab": {
          "base_uri": "https://localhost:8080/"
        },
        "outputId": "b52d75de-a56a-464a-90b2-2cc34fc6c195"
      },
      "outputs": [
        {
          "output_type": "stream",
          "name": "stdout",
          "text": [
            "Month 0: 2 fish (1 males, 1 females)\n",
            "Month 3: 0 fish (0 males, 0 females)\n",
            "Month 6: 0 fish (0 males, 0 females)\n",
            "Month 9: 0 fish (0 males, 0 females)\n",
            "Month 12: 0 fish (0 males, 0 females)\n",
            "Month 15: 0 fish (0 males, 0 females)\n",
            "Month 18: 0 fish (0 males, 0 females)\n",
            "Month 21: 0 fish (0 males, 0 females)\n",
            "Month 24: 0 fish (0 males, 0 females)\n",
            "Month 27: 0 fish (0 males, 0 females)\n",
            "Month 30: 0 fish (0 males, 0 females)\n",
            "Month 33: 0 fish (0 males, 0 females)\n",
            "Month 36: 0 fish (0 males, 0 females)\n",
            "Month 39: 0 fish (0 males, 0 females)\n",
            "Month 42: 0 fish (0 males, 0 females)\n",
            "Month 45: 0 fish (0 males, 0 females)\n",
            "Month 48: 0 fish (0 males, 0 females)\n",
            "Month 51: 0 fish (0 males, 0 females)\n",
            "Month 54: 0 fish (0 males, 0 females)\n",
            "Month 57: 0 fish (0 males, 0 females)\n",
            "Month 60: 0 fish (0 males, 0 females)\n",
            "Month 63: 0 fish (0 males, 0 females)\n",
            "Month 66: 0 fish (0 males, 0 females)\n",
            "Month 69: 0 fish (0 males, 0 females)\n",
            "Month 72: 0 fish (0 males, 0 females)\n",
            "Month 75: 0 fish (0 males, 0 females)\n",
            "Month 78: 0 fish (0 males, 0 females)\n",
            "Month 81: 0 fish (0 males, 0 females)\n",
            "Month 84: 0 fish (0 males, 0 females)\n",
            "Month 87: 0 fish (0 males, 0 females)\n",
            "Month 90: 0 fish (0 males, 0 females)\n",
            "Month 93: 0 fish (0 males, 0 females)\n",
            "Month 96: 0 fish (0 males, 0 females)\n",
            "Month 99: 0 fish (0 males, 0 females)\n",
            "Month 102: 0 fish (0 males, 0 females)\n",
            "Month 105: 0 fish (0 males, 0 females)\n",
            "Month 108: 0 fish (0 males, 0 females)\n",
            "Month 111: 0 fish (0 males, 0 females)\n",
            "Month 114: 0 fish (0 males, 0 females)\n",
            "Month 117: 0 fish (0 males, 0 females)\n",
            "Month 120: 0 fish (0 males, 0 females)\n"
          ]
        }
      ],
      "source": [
        "import math\n",
        "\n",
        "def simulate_fish_population(n, p):\n",
        "    males = n // 2\n",
        "    females = n // 2\n",
        "    death_rate = p / 100\n",
        "    month = 0\n",
        "\n",
        "    male_age = [0] * males\n",
        "    female_age = [0] * females\n",
        "\n",
        "    while month <= 120:\n",
        "        if month % 3 == 0:\n",
        "            total_fish = len(male_age) + len(female_age)\n",
        "            print(f\"Month {month}: {total_fish} fish ({len(male_age)} males, {len(female_age)} females)\")\n",
        "\n",
        "        month += 1\n",
        "\n",
        "        # อีัตราการตาย\n",
        "        def apply_death_rate(age_list):\n",
        "            survivors = math.floor(len(age_list) * (1 - death_rate))\n",
        "            return age_list[:survivors]\n",
        "\n",
        "        male_age = apply_death_rate(male_age)\n",
        "        female_age = apply_death_rate(female_age)\n",
        "\n",
        "        # อายุุเพิ่มขึ้น\n",
        "        male_age = [age + 1 for age in male_age]\n",
        "        female_age = [age + 1 for age in female_age]\n",
        "\n",
        "        # เกิดใหม่่ทุกๆ 3 เดือนสำหรับตัวเมียอายุ 2 เดือน\n",
        "        new_males = 0\n",
        "        new_females = 0\n",
        "        for female in female_age:\n",
        "            if female >= 2 and (month - female) % 3 == 0:\n",
        "                new_males += 150\n",
        "                new_females += 150\n",
        "\n",
        "        male_age += [0] * new_males\n",
        "        female_age += [0] * new_females\n",
        "\n",
        "# Run simulation\n",
        "simulate_fish_population(2, 10)\n",
        "\n",
        "\n",
        "# Run simulation\n",
        "n = 2  # Initial number of fish\n",
        "p = 10  # Monthly mortality rate\n",
        "\n",
        "# simulate_fish_population(n, p)\n",
        "\n",
        "# ถ้าเริ่มต้นด้วยปลา 2 ตัว ตายเดือนละ 10%\n",
        "# เดือนที่ 1 ไข่ 300 ไบ\n",
        "# เดือนที่ 2 ไข่ 300 ใบ + ลูกปลา 270 ตัว\n",
        "# เดือนที่ 3 ไข่ 300 ใบ + ลูกปลา 270 ตัว + ปลาโตเต็มวัย 243 ตัว + 2 = 515 ตัว\n"
      ]
    },
    {
      "cell_type": "markdown",
      "source": [
        "2.\tให้เขียน function find_mismatch ซึ่งรับ string มา 2 ค่า โดยจะส่งค่ากลับดังนี้\n",
        "- 0 เมื่อ string ทั้ง 2 ตัว เหมือนกัน โดยไม่สนใจ case\n",
        "- 1 เมื่อ string 1 จะเหมือน string 2 โดยการลบและ/หรือเพิ่มตัวอักษรเพียง 1 ตัว\n",
        "- 2 เมื่อ string ไม่เข้าเกณฑ์ 0 หรือ 1\n",
        "\n",
        "\n",
        "| String  1| \tString2\t|ผลลัพธ์|\n",
        "|----------|----------|------|\n",
        "|Python|\tJava\t|2|\n",
        "|book\t |  boot\t|1|\n",
        "|fan\t |  fun\t  |1|\n",
        "|sin\t | sink\t  |1 เพราะเพิ่ม k ใน str2 แล้วจะเหมือนกัน\n",
        "|Dog\t | dog\t  |0\n",
        "|poke\t | spoke\t|1 เพิ่ม s ใน str2 แล้วเหมือนกัน\n",
        "|poker |\tpoke\t|1 ตัด r ใน str1 ออกแล้วเหมือนกัน\n",
        "\n",
        "\n",
        "\n",
        "\n"
      ],
      "metadata": {
        "id": "F0_ZEPOYbDKf"
      }
    },
    {
      "cell_type": "code",
      "source": [
        "import math\n",
        "\n",
        "def find_mismatch(s1, s2):\n",
        "    def are_equal_ignore_case(a, b):\n",
        "        return a.lower() == b.lower()\n",
        "\n",
        "    def can_be_equal_by_one_edit(a, b):\n",
        "        len_a, len_b = len(a), len(b)\n",
        "        if abs(len_a - len_b) > 1:\n",
        "            return False\n",
        "\n",
        "        if len_a > len_b:\n",
        "            a, b = b, a\n",
        "\n",
        "        i, j = 0, 0\n",
        "        edited = False\n",
        "        while i < len(a) and j < len(b):\n",
        "            if a[i] != b[j]:\n",
        "                if edited:\n",
        "                    return False\n",
        "                edited = True\n",
        "                if len_a == len_b:\n",
        "                    i += 1\n",
        "            else:\n",
        "                i += 1\n",
        "            j += 1\n",
        "        return True\n",
        "\n",
        "    if are_equal_ignore_case(s1, s2):\n",
        "        return 0\n",
        "    elif can_be_equal_by_one_edit(s1, s2):\n",
        "        return 1\n",
        "    else:\n",
        "        return 2\n",
        "\n",
        "print(f\"{'String 1':<10} {'String 2':<10} {'Result':<10}\")\n",
        "for s1, s2 in test_cases:\n",
        "    result = find_mismatch(s1, s2)\n",
        "    print(f\"{s1:<10} {s2:<10} {result:<10}\")\n"
      ],
      "metadata": {
        "id": "jyVxAb-MXnz2",
        "colab": {
          "base_uri": "https://localhost:8080/"
        },
        "outputId": "b9be190d-7939-44de-ba98-0778a7ef3e2a"
      },
      "execution_count": 5,
      "outputs": [
        {
          "output_type": "stream",
          "name": "stdout",
          "text": [
            "String 1   String 2   Result    \n",
            "Python     Java       2         \n",
            "book       boot       1         \n",
            "fan        fun        1         \n",
            "sin        sink       1         \n",
            "Dog        dog        0         \n",
            "poke       spoke      1         \n",
            "poker      poke       1         \n"
          ]
        }
      ]
    },
    {
      "cell_type": "markdown",
      "source": [
        "3.\tจากข้อ 1 ให้เขียนฟังก์ชันชื่อ spelling_correction โดยรับ 2 argument ตัวแรกเป็นประโยค (string) และตัวที่ 2 เป็น list ของคำ (correct_spells) โดยฟังก์ชันนี้มีหน้าที่ตรวจสอบแต่ละ word ใน input string กับคำที่อยู่ใน correct_spells โดยค่าที่คืนกลับมาจะมีดังนี้ (พยายามเรียกใช้ฟังก์ชันในข้อ 1)\n",
        "-\tถ้าคำที่อยู่ในประโยค ตรงกับคำที่อยู่ใน correct_spells ทุกอย่าง ก็จะ copy ไปที่ output string\n",
        "-\tถ้าคำที่อยู่ในประโยค ต่างจากคำที่อยู่ใน correct_spells โดยต่างกัน 1 ตัวอักษร โดยการเปลี่ยน การเพิ่ม หรือการลบ 1 ตัวอักษร คำที่อยู่ในประโยคจะถูกเปลี่ยนโดยคำที่อยู่ใน correct_spells และนำไปใส่ output string\n",
        "-\tถ้าคำที่ไม่พบในเงื่อนไขข้างต้นให้นำคำนั้นไปใส่ output string ได้เลย\n",
        "-\tคำที่ประกอบด้วย 1 หรือ 2 ตัวอักษรจะไม่ตรวจสอบ ให้นำคำนั้นไปใส่ output string ได้เลย\n",
        "-\tถ้ามี 2 คำใน correct_spells ที่ตรงตามเงื่อนไข ให้ใช้คำแรก\n",
        "-\tไม่สนใจตัวใหญ่ ตัวเล็ก\n",
        "-\tInput string จะมีได้เพียงอักษรภาษาอังกฤษเท่านั้น\n",
        "-\tในแต่ละคำจะคั่นด้วย 1 space ถ้ามี space มากกว่านั้นให้ตัดออก และตัด space จากหัวท้ายประโยค\n",
        "\n",
        "|ประโยค\t|correct_spells\t|output string |\n",
        "|-------|---------------|-------------|\n",
        "|Thes is the Firs cas\t|[‘that’,’first’,’case’,’car’]|\tthes is the first car|\n",
        "|programming is fan and easy\t|[‘programming’,’this’,’fun’,’easy’,book’]\t|programming is fun and easy|\n",
        "|Thes is vary essy\t|[‘this’,’is’,’very’,’easy’]\t|this is very easy|\n",
        "|Wee ipve Pythen\t|[‘we’,’live’,’ln’,’Python’]\t|we live python|\n",
        "\n",
        "\n"
      ],
      "metadata": {
        "id": "jzXp83HSbMh9"
      }
    },
    {
      "cell_type": "code",
      "source": [
        "import math\n",
        "\n",
        "def find_mismatch(s1, s2):\n",
        "    for i in range(min(len(s1), len(s2))):\n",
        "        if s1[i] != s2[i]:\n",
        "            return i\n",
        "    return -1\n",
        "\n",
        "def are_equal_ignore_case(a, b):\n",
        "    return a.lower() == b.lower()\n",
        "\n",
        "def can_be_equal_by_one_edit(a, b):\n",
        "    if abs(len(a) - len(b)) > 1:\n",
        "        return False\n",
        "\n",
        "    if len(a) > len(b):\n",
        "        a, b = b, a\n",
        "\n",
        "    i, j = 0, 0\n",
        "    edited = False\n",
        "    while i < len(a) and j < len(b):\n",
        "        if a[i] != b[j]:\n",
        "            if edited:\n",
        "                return False\n",
        "            edited = True\n",
        "            if len(a) == len(b):\n",
        "                i += 1\n",
        "        else:\n",
        "            i += 1\n",
        "        j += 1\n",
        "    return True\n",
        "\n",
        "def correct_word(word, correct_spells):\n",
        "    word_lower = word.lower()\n",
        "    for correct in correct_spells:\n",
        "        if are_equal_ignore_case(word, correct):\n",
        "            return correct\n",
        "        if can_be_equal_by_one_edit(word_lower, correct.lower()):\n",
        "            return correct\n",
        "    return word\n",
        "\n",
        "def spelling_correction(sentence, correct_spells):\n",
        "    words = [word.strip() for word in sentence.split()]\n",
        "    corrected_words = [correct_word(word, correct_spells) for word in words]\n",
        "    return ' '.join(corrected_words)\n",
        "\n",
        "test = [\n",
        "    (\"Thes is the Firs cas\", ['that', 'first', 'case', 'car']),\n",
        "    (\"programming is fan and easy\", ['programming', 'this', 'fun', 'easy', 'book']),\n",
        "    (\"Thes is vary essy\", ['this', 'is', 'very', 'easy']),\n",
        "    (\"Wee ipve Pythen\", ['we', 'live', 'ln', 'Python'])\n",
        "]\n",
        "\n",
        "print(f\"{'ประโยค':<30} {'correct_spells':<30} {'output string':<30}\")\n",
        "for sentence, correct_spells in test:\n",
        "    result = spelling_correction(sentence, correct_spells)\n",
        "    print(f\"{sentence:<30} {str(correct_spells):<30} {result:<30}\")\n"
      ],
      "metadata": {
        "id": "4NW0Y1hXpfCt",
        "colab": {
          "base_uri": "https://localhost:8080/"
        },
        "outputId": "4bd7f6a0-a583-408e-ca84-34959a633576"
      },
      "execution_count": 13,
      "outputs": [
        {
          "output_type": "stream",
          "name": "stdout",
          "text": [
            "ประโยค                         correct_spells                 output string                 \n",
            "Thes is the Firs cas           ['that', 'first', 'case', 'car'] Thes is the first case        \n",
            "programming is fan and easy    ['programming', 'this', 'fun', 'easy', 'book'] programming is fun and easy   \n",
            "Thes is vary essy              ['this', 'is', 'very', 'easy'] this is very easy             \n",
            "Wee ipve Pythen                ['we', 'live', 'ln', 'Python'] we ipve Python                \n"
          ]
        }
      ]
    },
    {
      "cell_type": "markdown",
      "source": [
        "4. ให้เขียนฟังก์ชัน find_word_horizontal ซึ่งจะรับ list ขนาด 2 มิติ ของตัวอักษร (คล้ายกับเกม cross word) และ word ซึ่งเป็น string เป็น argument โดยฟังก์ชันนี้ จะค้นหาตามแถวของ list เพื่อหาตำแหน่งที่มีอักษรตรงกับคำใน word ถ้าพบ จะส่งคืน row index และ column index ของตัวอักษรแรก ถ้าไม่พบจะส่งคืน None\n",
        "\n",
        "```\n",
        "crosswords=[['s','d','o','g'],\n",
        "            ['c','u','c','m'],\n",
        "            ['a','c','a','t'],\n",
        "            ['t',' e','t','k']]\n",
        "\tword='cat'\n",
        "\tfind_word_horizontal(crosswords,word)\n",
        "```\n",
        "\n",
        "Output\n",
        "   [2,1]\n"
      ],
      "metadata": {
        "id": "sshYZJYZpfua"
      }
    },
    {
      "cell_type": "code",
      "source": [
        "def find_word_horizontal(crosswords, word):\n",
        "    rows = len(crosswords)\n",
        "    cols = len(crosswords[0]) if rows > 0 else 0\n",
        "    word_len = len(word)\n",
        "\n",
        "    for r in range(rows):\n",
        "        for c in range(cols - word_len + 1):\n",
        "            if ''.join(crosswords[r][c:c + word_len]) == word:\n",
        "                return (r, c)\n",
        "\n",
        "    return None\n",
        "crosswords = [\n",
        "    ['s', 'd', 'o', 'g'],\n",
        "    ['c', 'u', 'c', 'm'],\n",
        "    ['a', 'c', 'a', 't'],\n",
        "    ['t', 'e', 't', 'k']\n",
        "]\n",
        "word = 'cat'\n",
        "print(find_word_horizontal(crosswords, word))\n"
      ],
      "metadata": {
        "id": "2z0nonPMqZ_Q",
        "colab": {
          "base_uri": "https://localhost:8080/"
        },
        "outputId": "1dfa1384-36b0-4145-a98a-9c62142727b1"
      },
      "execution_count": 14,
      "outputs": [
        {
          "output_type": "stream",
          "name": "stdout",
          "text": [
            "(2, 1)\n"
          ]
        }
      ]
    },
    {
      "cell_type": "markdown",
      "source": [
        "5. ให้เขียนฟังก์ชัน find_word_vertical ซึ่งจะรับ list ขนาด 2 มิติ ของตัวอักษร (คล้ายกับเกม cross word) และ word ซึ่งเป็น string เป็น argument โดยฟังก์ชันนี้ จะค้นหาตามคอลัมน์ของ list เพื่อหาตำแหน่งที่มีอักษรตรงกับคำใน word ถ้าพบ จะส่งคืน row index และ column index ของตัวอักษรแรก ถ้าไม่พบจะส่งคืน None\n",
        "\n",
        "ตัวอย่าง\n",
        "```\n",
        "\tcrosswords=[['s','d','o','g'],\n",
        "              ['c','u','c','m'],\n",
        "              ['a','c','a','t'],\n",
        "              ['t',' e','t','k']]\n",
        "\tword='cat'\n",
        "\tfind_word_vertical(crosswords,word)\n",
        "```\n",
        "\n",
        "Output\n",
        "   [1,0]\n"
      ],
      "metadata": {
        "id": "sDhGHMPsqr6a"
      }
    },
    {
      "cell_type": "code",
      "source": [
        "def find_word_vertical(crosswords, word):\n",
        "    rows = len(crosswords)\n",
        "    cols = len(crosswords[0]) if rows > 0 else 0\n",
        "    word_len = len(word)\n",
        "\n",
        "    for c in range(cols):\n",
        "        for r in range(rows - word_len + 1):\n",
        "            if ''.join(crosswords[r + i][c] for i in range(word_len)) == word:\n",
        "                return (r, c)\n",
        "\n",
        "    return None\n",
        "crosswords = [\n",
        "    ['s', 'd', 'o', 'g'],\n",
        "    ['c', 'u', 'c', 'm'],\n",
        "    ['a', 'c', 'a', 't'],\n",
        "    ['t', 'e', 't', 'k']\n",
        "]\n",
        "word = 'cat'\n",
        "print(find_word_vertical(crosswords, word))\n"
      ],
      "metadata": {
        "id": "R5Jp1CkQrEz9",
        "colab": {
          "base_uri": "https://localhost:8080/"
        },
        "outputId": "92f686e8-c33c-4435-a46e-7de0ef58ad3b"
      },
      "execution_count": 15,
      "outputs": [
        {
          "output_type": "stream",
          "name": "stdout",
          "text": [
            "(1, 0)\n"
          ]
        }
      ]
    },
    {
      "cell_type": "markdown",
      "source": [
        "6.\tให้เขียนฟังก์ชัน capitalize_word_in_crossword จะรับ list ขนาด 2 มิติ ของตัวอักษร (คล้ายกับเกม cross word) และ word ซึ่งเป็น string เป็น argument โดยฟังก์ชันนี้ จะค้นหาตาม row และ column ของ list เพื่อหาตำแหน่งที่มีอักษรตรงกับคำใน word ถ้าพบจะเปลี่ยนเป็นตัวใหญ่และ และส่งคืน list ที่แก้ไขแล้ว แต่ถ้าไม่เจอจะส่ง list เดิมกลับมา ให้ใช้ฟังก์ชันตามข้อ 3 และ 4 ช่วย\n",
        "\n",
        "```\n",
        "crosswords=[['s','d','o','g'],\n",
        "            ['c','u','c','m'],\n",
        "            ['a','x','a','t'],\n",
        "            ['t','e','t','k']]\n",
        "word='cat'\n",
        "capitalize_word_in_crossword(crosswords,word)\n",
        "```\n",
        "จะส่งค่ากลับ\n",
        "```\n",
        " [['s','d','o','g'],\n",
        "  ['C','u','c','m'],\n",
        "  ['A','x','a','t'],\n",
        "  ['T','e','t','k']]\n",
        "```\n",
        "```\n",
        "crosswords=[['s','d','o','g'],\n",
        "            ['c','u','c','m'],\n",
        "            ['a','c','a','t'],\n",
        "            ['t','e','t','k']]\n",
        "word='cat'\n",
        "capitalize_word_in_crossword(crosswords,word)\n",
        "จะส่งค่ากลับ                   \n",
        "[['s','d','o','g'],\n",
        " ['c','u','c','m'],\n",
        " ['a','C','A','T'],\n",
        " ['t','e','t','k']]\n",
        "```\n",
        "\n",
        "\n"
      ],
      "metadata": {
        "id": "dinoUBQTrDFp"
      }
    },
    {
      "cell_type": "code",
      "source": [
        "def find_word_horizontal(crosswords, word):\n",
        "    rows = len(crosswords)\n",
        "    cols = len(crosswords[0]) if rows > 0 else 0\n",
        "    word_len = len(word)\n",
        "\n",
        "    for r in range(rows):\n",
        "        for c in range(cols - word_len + 1):\n",
        "            if ''.join(crosswords[r][c:c + word_len]) == word:\n",
        "                return (r, c)\n",
        "\n",
        "    return None\n",
        "\n",
        "def find_word_vertical(crosswords, word):\n",
        "    rows = len(crosswords)\n",
        "    cols = len(crosswords[0]) if rows > 0 else 0\n",
        "    word_len = len(word)\n",
        "\n",
        "    for c in range(cols):\n",
        "        for r in range(rows - word_len + 1):\n",
        "            if ''.join(crosswords[r + i][c] for i in range(word_len)) == word:\n",
        "                return (r, c)\n",
        "\n",
        "    return None\n",
        "\n",
        "def capitalize_word_in_crossword(crosswords, word):\n",
        "    horizontal_pos = find_word_horizontal(crosswords, word)\n",
        "    if horizontal_pos:\n",
        "        row, col = horizontal_pos\n",
        "        for i in range(len(word)):\n",
        "            crosswords[row][col + i] = crosswords[row][col + i].upper()\n",
        "        return crosswords\n",
        "\n",
        "    vertical_pos = find_word_vertical(crosswords, word)\n",
        "    if vertical_pos:\n",
        "        row, col = vertical_pos\n",
        "        for i in range(len(word)):\n",
        "            crosswords[row + i][col] = crosswords[row + i][col].upper()\n",
        "        return crosswords\n",
        "\n",
        "    return crosswords\n",
        "\n",
        "crosswords = [\n",
        "    ['s', 'd', 'o', 'g'],\n",
        "    ['c', 'u', 'c', 'm'],\n",
        "    ['a', 'c', 'a', 't'],\n",
        "    ['t', 'e', 't', 'k']\n",
        "]\n",
        "word = 'cat'\n",
        "print(capitalize_word_in_crossword(crosswords, word))\n"
      ],
      "metadata": {
        "id": "IM99mZNs0css",
        "colab": {
          "base_uri": "https://localhost:8080/"
        },
        "outputId": "8836eb5e-bfcb-412c-fc5d-191a5d3ad60f"
      },
      "execution_count": 16,
      "outputs": [
        {
          "output_type": "stream",
          "name": "stdout",
          "text": [
            "[['s', 'd', 'o', 'g'], ['c', 'u', 'c', 'm'], ['a', 'C', 'A', 'T'], ['t', 'e', 't', 'k']]\n"
          ]
        }
      ]
    }
  ]
}